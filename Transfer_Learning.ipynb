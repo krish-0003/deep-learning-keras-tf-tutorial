{
  "nbformat": 4,
  "nbformat_minor": 0,
  "metadata": {
    "colab": {
      "name": "lab4_Transfer_Learning.ipynb",
      "provenance": [],
      "collapsed_sections": [],
      "toc_visible": true,
      "include_colab_link": true
    },
    "kernelspec": {
      "name": "python3",
      "display_name": "Python 3"
    },
    "accelerator": "GPU"
  },
  "cells": [
    {
      "cell_type": "markdown",
      "metadata": {
        "id": "view-in-github",
        "colab_type": "text"
      },
      "source": [
        "<a href=\"https://colab.research.google.com/github/krish-0003/deep-learning-keras-tf-tutorial/blob/master/Transfer_Learning.ipynb\" target=\"_parent\"><img src=\"https://colab.research.google.com/assets/colab-badge.svg\" alt=\"Open In Colab\"/></a>"
      ]
    },
    {
      "cell_type": "code",
      "metadata": {
        "id": "qqzgHIhH6nbY"
      },
      "source": [
        "import tensorflow as tf\n",
        "from tensorflow import keras\n",
        "import numpy as np\n",
        "import matplotlib.pyplot as plt\n",
        "from keras import activations, Input, Model, models\n",
        "from keras.layers import Dense, Dropout, Conv2D, MaxPool2D, Flatten, GlobalAveragePooling2D, GlobalMaxPooling2D, BatchNormalization\n",
        "from sklearn import metrics\n",
        "from keras.datasets import cifar10\n",
        "from keras.utils import to_categorical, plot_model\n",
        "from keras import optimizers\n",
        "from keras.applications import Xception\n",
        "from keras.applications.xception import preprocess_input\n",
        "import cv2 as cv\n",
        "from google.colab.patches import cv2_imshow"
      ],
      "execution_count": null,
      "outputs": []
    },
    {
      "cell_type": "code",
      "metadata": {
        "colab": {
          "base_uri": "https://localhost:8080/"
        },
        "id": "TpX4c6jOfO9V",
        "outputId": "5cb3dfc1-ea4f-4c04-eb99-d2332acdfd40"
      },
      "source": [
        "!nvidia-smi"
      ],
      "execution_count": null,
      "outputs": [
        {
          "output_type": "stream",
          "text": [
            "Mon Feb 22 09:20:00 2021       \n",
            "+-----------------------------------------------------------------------------+\n",
            "| NVIDIA-SMI 460.39       Driver Version: 460.32.03    CUDA Version: 11.2     |\n",
            "|-------------------------------+----------------------+----------------------+\n",
            "| GPU  Name        Persistence-M| Bus-Id        Disp.A | Volatile Uncorr. ECC |\n",
            "| Fan  Temp  Perf  Pwr:Usage/Cap|         Memory-Usage | GPU-Util  Compute M. |\n",
            "|                               |                      |               MIG M. |\n",
            "|===============================+======================+======================|\n",
            "|   0  Tesla K80           Off  | 00000000:00:04.0 Off |                    0 |\n",
            "| N/A   50C    P8    31W / 149W |      0MiB / 11441MiB |      0%      Default |\n",
            "|                               |                      |                  N/A |\n",
            "+-------------------------------+----------------------+----------------------+\n",
            "                                                                               \n",
            "+-----------------------------------------------------------------------------+\n",
            "| Processes:                                                                  |\n",
            "|  GPU   GI   CI        PID   Type   Process name                  GPU Memory |\n",
            "|        ID   ID                                                   Usage      |\n",
            "|=============================================================================|\n",
            "|  No running processes found                                                 |\n",
            "+-----------------------------------------------------------------------------+\n"
          ],
          "name": "stdout"
        }
      ]
    },
    {
      "cell_type": "code",
      "metadata": {
        "id": "LK5Lnz9R7irw",
        "colab": {
          "base_uri": "https://localhost:8080/"
        },
        "outputId": "fdc20b69-bbd2-46c7-853f-4caa0ae25710"
      },
      "source": [
        "(x_train, y_train), (x_test, y_test) = cifar10.load_data()"
      ],
      "execution_count": null,
      "outputs": [
        {
          "output_type": "stream",
          "text": [
            "Downloading data from https://www.cs.toronto.edu/~kriz/cifar-10-python.tar.gz\n",
            "170500096/170498071 [==============================] - 11s 0us/step\n"
          ],
          "name": "stdout"
        }
      ]
    },
    {
      "cell_type": "code",
      "metadata": {
        "colab": {
          "base_uri": "https://localhost:8080/"
        },
        "id": "iFmOVFQM74xd",
        "outputId": "4df54da6-0ac7-422a-fdfa-84280d2058ee"
      },
      "source": [
        "print(x_train.shape, y_train.shape, x_test.shape, y_test.shape)"
      ],
      "execution_count": null,
      "outputs": [
        {
          "output_type": "stream",
          "text": [
            "(50000, 32, 32, 3) (50000, 1) (10000, 32, 32, 3) (10000, 1)\n"
          ],
          "name": "stdout"
        }
      ]
    },
    {
      "cell_type": "code",
      "metadata": {
        "id": "UuAsoP3dENpA"
      },
      "source": [
        ""
      ],
      "execution_count": null,
      "outputs": []
    },
    {
      "cell_type": "code",
      "metadata": {
        "id": "ayUgUbLY8Jmy"
      },
      "source": [
        "X_train = np.array([cv.resize(i,dsize=(72,72), interpolation=cv.INTER_CUBIC) for i in x_train]).astype('float16')/255.0\n",
        "X_test = np.array([cv.resize(i,dsize=(72,72), interpolation=cv.INTER_CUBIC) for i in x_test]).astype('float16')/255.0\n",
        "classes = np.max(y_train) - np.min(y_train)+1\n",
        "Y_train = to_categorical(y_train,classes)\n",
        "Y_test = to_categorical(y_test,classes)"
      ],
      "execution_count": null,
      "outputs": []
    },
    {
      "cell_type": "code",
      "metadata": {
        "id": "JA7Qs69FIANE",
        "colab": {
          "base_uri": "https://localhost:8080/",
          "height": 285
        },
        "outputId": "15306363-f10b-4330-f7cc-5023c89ca0ba"
      },
      "source": [
        ""
      ],
      "execution_count": null,
      "outputs": [
        {
          "output_type": "execute_result",
          "data": {
            "text/plain": [
              "<matplotlib.image.AxesImage at 0x7faee63c57f0>"
            ]
          },
          "metadata": {
            "tags": []
          },
          "execution_count": 8
        },
        {
          "output_type": "display_data",
          "data": {
            "image/png": "[encoded data removed]",
            "text/plain": [
              "<Figure size 432x288 with 1 Axes>"
            ]
          },
          "metadata": {
            "tags": [],
            "needs_background": "light"
          }
        }
      ]
    },
    {
      "cell_type": "code",
      "metadata": {
        "colab": {
          "base_uri": "https://localhost:8080/"
        },
        "id": "eiYTrBRC8plS",
        "outputId": "6c376919-4eef-4734-eeb4-a85c81f1acd9"
      },
      "source": [
        "print(X_train.shape, Y_train.shape, X_test.shape, Y_test.shape)\n",
        "print(X_train.dtype, X_test.dtype)"
      ],
      "execution_count": null,
      "outputs": [
        {
          "output_type": "stream",
          "text": [
            "(50000, 72, 72, 3) (50000, 10) (10000, 72, 72, 3) (10000, 10)\n",
            "float16 float16\n"
          ],
          "name": "stdout"
        }
      ]
    },
    {
      "cell_type": "code",
      "metadata": {
        "id": "7Hxmu78O9XXa",
        "colab": {
          "base_uri": "https://localhost:8080/"
        },
        "outputId": "c574074b-939a-4f3e-c9ff-733902781b42"
      },
      "source": [
        "# Try1\n",
        "#############################\n",
        "#ip = Input(size=X_train.shape[1::])\n",
        "\n",
        "learned = Xception(include_top=False, weights='imagenet', input_tensor=Input(shape=(72,72,3)))\n",
        "\n",
        "for layer in learned.layers:\n",
        "  layer.trainable = False\n",
        "\n",
        "top = GlobalAveragePooling2D()(learned.output)\n",
        "\n",
        "top = BatchNormalization(momentum=0.95)(top)\n",
        "\n",
        "top = Dropout(0.3)(top)\n",
        "\n",
        "top = Dense(64, activation='relu')(top)\n",
        "\n",
        "top = Dropout(0.3)(top)\n",
        "\n",
        "top = Dense(10, activation='softmax')(top)\n",
        "\n",
        "model = Model(inputs=learned.input, outputs=top)"
      ],
      "execution_count": null,
      "outputs": [
        {
          "output_type": "stream",
          "text": [
            "Downloading data from https://storage.googleapis.com/tensorflow/keras-applications/xception/xception_weights_tf_dim_ordering_tf_kernels_notop.h5\n",
            "83689472/83683744 [==============================] - 1s 0us/step\n"
          ],
          "name": "stdout"
        }
      ]
    },
    {
      "cell_type": "code",
      "metadata": {
        "colab": {
          "base_uri": "https://localhost:8080/"
        },
        "id": "LpLddP37LnNF",
        "outputId": "38acb270-02d4-4441-b45f-b2aaa37256ca"
      },
      "source": [
        "model.summary()"
      ],
      "execution_count": null,
      "outputs": [
        {
          "output_type": "stream",
          "text": [
            "Model: \"model\"\n",
            "__________________________________________________________________________________________________\n",
            "Layer (type)                    Output Shape         Param #     Connected to                     \n",
            "==================================================================================================\n",
            "input_1 (InputLayer)            [(None, 72, 72, 3)]  0                                            \n",
            "__________________________________________________________________________________________________\n",
            "block1_conv1 (Conv2D)           (None, 35, 35, 32)   864         input_1[0][0]                    \n",
            "__________________________________________________________________________________________________\n",
            "block1_conv1_bn (BatchNormaliza (None, 35, 35, 32)   128         block1_conv1[0][0]               \n",
            "__________________________________________________________________________________________________\n",
            "block1_conv1_act (Activation)   (None, 35, 35, 32)   0           block1_conv1_bn[0][0]            \n",
            "__________________________________________________________________________________________________\n",
            "block1_conv2 (Conv2D)           (None, 33, 33, 64)   18432       block1_conv1_act[0][0]           \n",
            "__________________________________________________________________________________________________\n",
            "block1_conv2_bn (BatchNormaliza (None, 33, 33, 64)   256         block1_conv2[0][0]               \n",
            "__________________________________________________________________________________________________\n",
            "block1_conv2_act (Activation)   (None, 33, 33, 64)   0           block1_conv2_bn[0][0]            \n",
            "__________________________________________________________________________________________________\n",
            "block2_sepconv1 (SeparableConv2 (None, 33, 33, 128)  8768        block1_conv2_act[0][0]           \n",
            "__________________________________________________________________________________________________\n",
            "block2_sepconv1_bn (BatchNormal (None, 33, 33, 128)  512         block2_sepconv1[0][0]            \n",
            "__________________________________________________________________________________________________\n",
            "block2_sepconv2_act (Activation (None, 33, 33, 128)  0           block2_sepconv1_bn[0][0]         \n",
            "__________________________________________________________________________________________________\n",
            "block2_sepconv2 (SeparableConv2 (None, 33, 33, 128)  17536       block2_sepconv2_act[0][0]        \n",
            "__________________________________________________________________________________________________\n",
            "block2_sepconv2_bn (BatchNormal (None, 33, 33, 128)  512         block2_sepconv2[0][0]            \n",
            "__________________________________________________________________________________________________\n",
            "conv2d (Conv2D)                 (None, 17, 17, 128)  8192        block1_conv2_act[0][0]           \n",
            "__________________________________________________________________________________________________\n",
            "block2_pool (MaxPooling2D)      (None, 17, 17, 128)  0           block2_sepconv2_bn[0][0]         \n",
            "__________________________________________________________________________________________________\n",
            "batch_normalization (BatchNorma (None, 17, 17, 128)  512         conv2d[0][0]                     \n",
            "__________________________________________________________________________________________________\n",
            "add (Add)                       (None, 17, 17, 128)  0           block2_pool[0][0]                \n",
            "                                                                 batch_normalization[0][0]        \n",
            "__________________________________________________________________________________________________\n",
            "block3_sepconv1_act (Activation (None, 17, 17, 128)  0           add[0][0]                        \n",
            "__________________________________________________________________________________________________\n",
            "block3_sepconv1 (SeparableConv2 (None, 17, 17, 256)  33920       block3_sepconv1_act[0][0]        \n",
            "__________________________________________________________________________________________________\n",
            "block3_sepconv1_bn (BatchNormal (None, 17, 17, 256)  1024        block3_sepconv1[0][0]            \n",
            "__________________________________________________________________________________________________\n",
            "block3_sepconv2_act (Activation (None, 17, 17, 256)  0           block3_sepconv1_bn[0][0]         \n",
            "__________________________________________________________________________________________________\n",
            "block3_sepconv2 (SeparableConv2 (None, 17, 17, 256)  67840       block3_sepconv2_act[0][0]        \n",
            "__________________________________________________________________________________________________\n",
            "block3_sepconv2_bn (BatchNormal (None, 17, 17, 256)  1024        block3_sepconv2[0][0]            \n",
            "__________________________________________________________________________________________________\n",
            "conv2d_1 (Conv2D)               (None, 9, 9, 256)    32768       add[0][0]                        \n",
            "__________________________________________________________________________________________________\n",
            "block3_pool (MaxPooling2D)      (None, 9, 9, 256)    0           block3_sepconv2_bn[0][0]         \n",
            "__________________________________________________________________________________________________\n",
            "batch_normalization_1 (BatchNor (None, 9, 9, 256)    1024        conv2d_1[0][0]                   \n",
            "__________________________________________________________________________________________________\n",
            "add_1 (Add)                     (None, 9, 9, 256)    0           block3_pool[0][0]                \n",
            "                                                                 batch_normalization_1[0][0]      \n",
            "__________________________________________________________________________________________________\n",
            "block4_sepconv1_act (Activation (None, 9, 9, 256)    0           add_1[0][0]                      \n",
            "__________________________________________________________________________________________________\n",
            "block4_sepconv1 (SeparableConv2 (None, 9, 9, 728)    188672      block4_sepconv1_act[0][0]        \n",
            "__________________________________________________________________________________________________\n",
            "block4_sepconv1_bn (BatchNormal (None, 9, 9, 728)    2912        block4_sepconv1[0][0]            \n",
            "__________________________________________________________________________________________________\n",
            "block4_sepconv2_act (Activation (None, 9, 9, 728)    0           block4_sepconv1_bn[0][0]         \n",
            "__________________________________________________________________________________________________\n",
            "block4_sepconv2 (SeparableConv2 (None, 9, 9, 728)    536536      block4_sepconv2_act[0][0]        \n",
            "__________________________________________________________________________________________________\n",
            "block4_sepconv2_bn (BatchNormal (None, 9, 9, 728)    2912        block4_sepconv2[0][0]            \n",
            "__________________________________________________________________________________________________\n",
            "conv2d_2 (Conv2D)               (None, 5, 5, 728)    186368      add_1[0][0]                      \n",
            "__________________________________________________________________________________________________\n",
            "block4_pool (MaxPooling2D)      (None, 5, 5, 728)    0           block4_sepconv2_bn[0][0]         \n",
            "__________________________________________________________________________________________________\n",
            "batch_normalization_2 (BatchNor (None, 5, 5, 728)    2912        conv2d_2[0][0]                   \n",
            "__________________________________________________________________________________________________\n",
            "add_2 (Add)                     (None, 5, 5, 728)    0           block4_pool[0][0]                \n",
            "                                                                 batch_normalization_2[0][0]      \n",
            "__________________________________________________________________________________________________\n",
            "block5_sepconv1_act (Activation (None, 5, 5, 728)    0           add_2[0][0]                      \n",
            "__________________________________________________________________________________________________\n",
            "block5_sepconv1 (SeparableConv2 (None, 5, 5, 728)    536536      block5_sepconv1_act[0][0]        \n",
            "__________________________________________________________________________________________________\n",
            "block5_sepconv1_bn (BatchNormal (None, 5, 5, 728)    2912        block5_sepconv1[0][0]            \n",
            "__________________________________________________________________________________________________\n",
            "block5_sepconv2_act (Activation (None, 5, 5, 728)    0           block5_sepconv1_bn[0][0]         \n",
            "__________________________________________________________________________________________________\n",
            "block5_sepconv2 (SeparableConv2 (None, 5, 5, 728)    536536      block5_sepconv2_act[0][0]        \n",
            "__________________________________________________________________________________________________\n",
            "block5_sepconv2_bn (BatchNormal (None, 5, 5, 728)    2912        block5_sepconv2[0][0]            \n",
            "__________________________________________________________________________________________________\n",
            "block5_sepconv3_act (Activation (None, 5, 5, 728)    0           block5_sepconv2_bn[0][0]         \n",
            "__________________________________________________________________________________________________\n",
            "block5_sepconv3 (SeparableConv2 (None, 5, 5, 728)    536536      block5_sepconv3_act[0][0]        \n",
            "__________________________________________________________________________________________________\n",
            "block5_sepconv3_bn (BatchNormal (None, 5, 5, 728)    2912        block5_sepconv3[0][0]            \n",
            "__________________________________________________________________________________________________\n",
            "add_3 (Add)                     (None, 5, 5, 728)    0           block5_sepconv3_bn[0][0]         \n",
            "                                                                 add_2[0][0]                      \n",
            "__________________________________________________________________________________________________\n",
            "block6_sepconv1_act (Activation (None, 5, 5, 728)    0           add_3[0][0]                      \n",
            "__________________________________________________________________________________________________\n",
            "block6_sepconv1 (SeparableConv2 (None, 5, 5, 728)    536536      block6_sepconv1_act[0][0]        \n",
            "__________________________________________________________________________________________________\n",
            "block6_sepconv1_bn (BatchNormal (None, 5, 5, 728)    2912        block6_sepconv1[0][0]            \n",
            "__________________________________________________________________________________________________\n",
            "block6_sepconv2_act (Activation (None, 5, 5, 728)    0           block6_sepconv1_bn[0][0]         \n",
            "__________________________________________________________________________________________________\n",
            "block6_sepconv2 (SeparableConv2 (None, 5, 5, 728)    536536      block6_sepconv2_act[0][0]        \n",
            "__________________________________________________________________________________________________\n",
            "block6_sepconv2_bn (BatchNormal (None, 5, 5, 728)    2912        block6_sepconv2[0][0]            \n",
            "__________________________________________________________________________________________________\n",
            "block6_sepconv3_act (Activation (None, 5, 5, 728)    0           block6_sepconv2_bn[0][0]         \n",
            "__________________________________________________________________________________________________\n",
            "block6_sepconv3 (SeparableConv2 (None, 5, 5, 728)    536536      block6_sepconv3_act[0][0]        \n",
            "__________________________________________________________________________________________________\n",
            "block6_sepconv3_bn (BatchNormal (None, 5, 5, 728)    2912        block6_sepconv3[0][0]            \n",
            "__________________________________________________________________________________________________\n",
            "add_4 (Add)                     (None, 5, 5, 728)    0           block6_sepconv3_bn[0][0]         \n",
            "                                                                 add_3[0][0]                      \n",
            "__________________________________________________________________________________________________\n",
            "block7_sepconv1_act (Activation (None, 5, 5, 728)    0           add_4[0][0]                      \n",
            "__________________________________________________________________________________________________\n",
            "block7_sepconv1 (SeparableConv2 (None, 5, 5, 728)    536536      block7_sepconv1_act[0][0]        \n",
            "__________________________________________________________________________________________________\n",
            "block7_sepconv1_bn (BatchNormal (None, 5, 5, 728)    2912        block7_sepconv1[0][0]            \n",
            "__________________________________________________________________________________________________\n",
            "block7_sepconv2_act (Activation (None, 5, 5, 728)    0           block7_sepconv1_bn[0][0]         \n",
            "__________________________________________________________________________________________________\n",
            "block7_sepconv2 (SeparableConv2 (None, 5, 5, 728)    536536      block7_sepconv2_act[0][0]        \n",
            "__________________________________________________________________________________________________\n",
            "block7_sepconv2_bn (BatchNormal (None, 5, 5, 728)    2912        block7_sepconv2[0][0]            \n",
            "__________________________________________________________________________________________________\n",
            "block7_sepconv3_act (Activation (None, 5, 5, 728)    0           block7_sepconv2_bn[0][0]         \n",
            "__________________________________________________________________________________________________\n",
            "block7_sepconv3 (SeparableConv2 (None, 5, 5, 728)    536536      block7_sepconv3_act[0][0]        \n",
            "__________________________________________________________________________________________________\n",
            "block7_sepconv3_bn (BatchNormal (None, 5, 5, 728)    2912        block7_sepconv3[0][0]            \n",
            "__________________________________________________________________________________________________\n",
            "add_5 (Add)                     (None, 5, 5, 728)    0           block7_sepconv3_bn[0][0]         \n",
            "                                                                 add_4[0][0]                      \n",
            "__________________________________________________________________________________________________\n",
            "block8_sepconv1_act (Activation (None, 5, 5, 728)    0           add_5[0][0]                      \n",
            "__________________________________________________________________________________________________\n",
            "block8_sepconv1 (SeparableConv2 (None, 5, 5, 728)    536536      block8_sepconv1_act[0][0]        \n",
            "__________________________________________________________________________________________________\n",
            "block8_sepconv1_bn (BatchNormal (None, 5, 5, 728)    2912        block8_sepconv1[0][0]            \n",
            "__________________________________________________________________________________________________\n",
            "block8_sepconv2_act (Activation (None, 5, 5, 728)    0           block8_sepconv1_bn[0][0]         \n",
            "__________________________________________________________________________________________________\n",
            "block8_sepconv2 (SeparableConv2 (None, 5, 5, 728)    536536      block8_sepconv2_act[0][0]        \n",
            "__________________________________________________________________________________________________\n",
            "block8_sepconv2_bn (BatchNormal (None, 5, 5, 728)    2912        block8_sepconv2[0][0]            \n",
            "__________________________________________________________________________________________________\n",
            "block8_sepconv3_act (Activation (None, 5, 5, 728)    0           block8_sepconv2_bn[0][0]         \n",
            "__________________________________________________________________________________________________\n",
            "block8_sepconv3 (SeparableConv2 (None, 5, 5, 728)    536536      block8_sepconv3_act[0][0]        \n",
            "__________________________________________________________________________________________________\n",
            "block8_sepconv3_bn (BatchNormal (None, 5, 5, 728)    2912        block8_sepconv3[0][0]            \n",
            "__________________________________________________________________________________________________\n",
            "add_6 (Add)                     (None, 5, 5, 728)    0           block8_sepconv3_bn[0][0]         \n",
            "                                                                 add_5[0][0]                      \n",
            "__________________________________________________________________________________________________\n",
            "block9_sepconv1_act (Activation (None, 5, 5, 728)    0           add_6[0][0]                      \n",
            "__________________________________________________________________________________________________\n",
            "block9_sepconv1 (SeparableConv2 (None, 5, 5, 728)    536536      block9_sepconv1_act[0][0]        \n",
            "__________________________________________________________________________________________________\n",
            "block9_sepconv1_bn (BatchNormal (None, 5, 5, 728)    2912        block9_sepconv1[0][0]            \n",
            "__________________________________________________________________________________________________\n",
            "block9_sepconv2_act (Activation (None, 5, 5, 728)    0           block9_sepconv1_bn[0][0]         \n",
            "__________________________________________________________________________________________________\n",
            "block9_sepconv2 (SeparableConv2 (None, 5, 5, 728)    536536      block9_sepconv2_act[0][0]        \n",
            "__________________________________________________________________________________________________\n",
            "block9_sepconv2_bn (BatchNormal (None, 5, 5, 728)    2912        block9_sepconv2[0][0]            \n",
            "__________________________________________________________________________________________________\n",
            "block9_sepconv3_act (Activation (None, 5, 5, 728)    0           block9_sepconv2_bn[0][0]         \n",
            "__________________________________________________________________________________________________\n",
            "block9_sepconv3 (SeparableConv2 (None, 5, 5, 728)    536536      block9_sepconv3_act[0][0]        \n",
            "__________________________________________________________________________________________________\n",
            "block9_sepconv3_bn (BatchNormal (None, 5, 5, 728)    2912        block9_sepconv3[0][0]            \n",
            "__________________________________________________________________________________________________\n",
            "add_7 (Add)                     (None, 5, 5, 728)    0           block9_sepconv3_bn[0][0]         \n",
            "                                                                 add_6[0][0]                      \n",
            "__________________________________________________________________________________________________\n",
            "block10_sepconv1_act (Activatio (None, 5, 5, 728)    0           add_7[0][0]                      \n",
            "__________________________________________________________________________________________________\n",
            "block10_sepconv1 (SeparableConv (None, 5, 5, 728)    536536      block10_sepconv1_act[0][0]       \n",
            "__________________________________________________________________________________________________\n",
            "block10_sepconv1_bn (BatchNorma (None, 5, 5, 728)    2912        block10_sepconv1[0][0]           \n",
            "__________________________________________________________________________________________________\n",
            "block10_sepconv2_act (Activatio (None, 5, 5, 728)    0           block10_sepconv1_bn[0][0]        \n",
            "__________________________________________________________________________________________________\n",
            "block10_sepconv2 (SeparableConv (None, 5, 5, 728)    536536      block10_sepconv2_act[0][0]       \n",
            "__________________________________________________________________________________________________\n",
            "block10_sepconv2_bn (BatchNorma (None, 5, 5, 728)    2912        block10_sepconv2[0][0]           \n",
            "__________________________________________________________________________________________________\n",
            "block10_sepconv3_act (Activatio (None, 5, 5, 728)    0           block10_sepconv2_bn[0][0]        \n",
            "__________________________________________________________________________________________________\n",
            "block10_sepconv3 (SeparableConv (None, 5, 5, 728)    536536      block10_sepconv3_act[0][0]       \n",
            "__________________________________________________________________________________________________\n",
            "block10_sepconv3_bn (BatchNorma (None, 5, 5, 728)    2912        block10_sepconv3[0][0]           \n",
            "__________________________________________________________________________________________________\n",
            "add_8 (Add)                     (None, 5, 5, 728)    0           block10_sepconv3_bn[0][0]        \n",
            "                                                                 add_7[0][0]                      \n",
            "__________________________________________________________________________________________________\n",
            "block11_sepconv1_act (Activatio (None, 5, 5, 728)    0           add_8[0][0]                      \n",
            "__________________________________________________________________________________________________\n",
            "block11_sepconv1 (SeparableConv (None, 5, 5, 728)    536536      block11_sepconv1_act[0][0]       \n",
            "__________________________________________________________________________________________________\n",
            "block11_sepconv1_bn (BatchNorma (None, 5, 5, 728)    2912        block11_sepconv1[0][0]           \n",
            "__________________________________________________________________________________________________\n",
            "block11_sepconv2_act (Activatio (None, 5, 5, 728)    0           block11_sepconv1_bn[0][0]        \n",
            "__________________________________________________________________________________________________\n",
            "block11_sepconv2 (SeparableConv (None, 5, 5, 728)    536536      block11_sepconv2_act[0][0]       \n",
            "__________________________________________________________________________________________________\n",
            "block11_sepconv2_bn (BatchNorma (None, 5, 5, 728)    2912        block11_sepconv2[0][0]           \n",
            "__________________________________________________________________________________________________\n",
            "block11_sepconv3_act (Activatio (None, 5, 5, 728)    0           block11_sepconv2_bn[0][0]        \n",
            "__________________________________________________________________________________________________\n",
            "block11_sepconv3 (SeparableConv (None, 5, 5, 728)    536536      block11_sepconv3_act[0][0]       \n",
            "__________________________________________________________________________________________________\n",
            "block11_sepconv3_bn (BatchNorma (None, 5, 5, 728)    2912        block11_sepconv3[0][0]           \n",
            "__________________________________________________________________________________________________\n",
            "add_9 (Add)                     (None, 5, 5, 728)    0           block11_sepconv3_bn[0][0]        \n",
            "                                                                 add_8[0][0]                      \n",
            "__________________________________________________________________________________________________\n",
            "block12_sepconv1_act (Activatio (None, 5, 5, 728)    0           add_9[0][0]                      \n",
            "__________________________________________________________________________________________________\n",
            "block12_sepconv1 (SeparableConv (None, 5, 5, 728)    536536      block12_sepconv1_act[0][0]       \n",
            "__________________________________________________________________________________________________\n",
            "block12_sepconv1_bn (BatchNorma (None, 5, 5, 728)    2912        block12_sepconv1[0][0]           \n",
            "__________________________________________________________________________________________________\n",
            "block12_sepconv2_act (Activatio (None, 5, 5, 728)    0           block12_sepconv1_bn[0][0]        \n",
            "__________________________________________________________________________________________________\n",
            "block12_sepconv2 (SeparableConv (None, 5, 5, 728)    536536      block12_sepconv2_act[0][0]       \n",
            "__________________________________________________________________________________________________\n",
            "block12_sepconv2_bn (BatchNorma (None, 5, 5, 728)    2912        block12_sepconv2[0][0]           \n",
            "__________________________________________________________________________________________________\n",
            "block12_sepconv3_act (Activatio (None, 5, 5, 728)    0           block12_sepconv2_bn[0][0]        \n",
            "__________________________________________________________________________________________________\n",
            "block12_sepconv3 (SeparableConv (None, 5, 5, 728)    536536      block12_sepconv3_act[0][0]       \n",
            "__________________________________________________________________________________________________\n",
            "block12_sepconv3_bn (BatchNorma (None, 5, 5, 728)    2912        block12_sepconv3[0][0]           \n",
            "__________________________________________________________________________________________________\n",
            "add_10 (Add)                    (None, 5, 5, 728)    0           block12_sepconv3_bn[0][0]        \n",
            "                                                                 add_9[0][0]                      \n",
            "__________________________________________________________________________________________________\n",
            "block13_sepconv1_act (Activatio (None, 5, 5, 728)    0           add_10[0][0]                     \n",
            "__________________________________________________________________________________________________\n",
            "block13_sepconv1 (SeparableConv (None, 5, 5, 728)    536536      block13_sepconv1_act[0][0]       \n",
            "__________________________________________________________________________________________________\n",
            "block13_sepconv1_bn (BatchNorma (None, 5, 5, 728)    2912        block13_sepconv1[0][0]           \n",
            "__________________________________________________________________________________________________\n",
            "block13_sepconv2_act (Activatio (None, 5, 5, 728)    0           block13_sepconv1_bn[0][0]        \n",
            "__________________________________________________________________________________________________\n",
            "block13_sepconv2 (SeparableConv (None, 5, 5, 1024)   752024      block13_sepconv2_act[0][0]       \n",
            "__________________________________________________________________________________________________\n",
            "block13_sepconv2_bn (BatchNorma (None, 5, 5, 1024)   4096        block13_sepconv2[0][0]           \n",
            "__________________________________________________________________________________________________\n",
            "conv2d_3 (Conv2D)               (None, 3, 3, 1024)   745472      add_10[0][0]                     \n",
            "__________________________________________________________________________________________________\n",
            "block13_pool (MaxPooling2D)     (None, 3, 3, 1024)   0           block13_sepconv2_bn[0][0]        \n",
            "__________________________________________________________________________________________________\n",
            "batch_normalization_3 (BatchNor (None, 3, 3, 1024)   4096        conv2d_3[0][0]                   \n",
            "__________________________________________________________________________________________________\n",
            "add_11 (Add)                    (None, 3, 3, 1024)   0           block13_pool[0][0]               \n",
            "                                                                 batch_normalization_3[0][0]      \n",
            "__________________________________________________________________________________________________\n",
            "block14_sepconv1 (SeparableConv (None, 3, 3, 1536)   1582080     add_11[0][0]                     \n",
            "__________________________________________________________________________________________________\n",
            "block14_sepconv1_bn (BatchNorma (None, 3, 3, 1536)   6144        block14_sepconv1[0][0]           \n",
            "__________________________________________________________________________________________________\n",
            "block14_sepconv1_act (Activatio (None, 3, 3, 1536)   0           block14_sepconv1_bn[0][0]        \n",
            "__________________________________________________________________________________________________\n",
            "block14_sepconv2 (SeparableConv (None, 3, 3, 2048)   3159552     block14_sepconv1_act[0][0]       \n",
            "__________________________________________________________________________________________________\n",
            "block14_sepconv2_bn (BatchNorma (None, 3, 3, 2048)   8192        block14_sepconv2[0][0]           \n",
            "__________________________________________________________________________________________________\n",
            "block14_sepconv2_act (Activatio (None, 3, 3, 2048)   0           block14_sepconv2_bn[0][0]        \n",
            "__________________________________________________________________________________________________\n",
            "global_average_pooling2d (Globa (None, 2048)         0           block14_sepconv2_act[0][0]       \n",
            "__________________________________________________________________________________________________\n",
            "batch_normalization_4 (BatchNor (None, 2048)         8192        global_average_pooling2d[0][0]   \n",
            "__________________________________________________________________________________________________\n",
            "dropout (Dropout)               (None, 2048)         0           batch_normalization_4[0][0]      \n",
            "__________________________________________________________________________________________________\n",
            "dense (Dense)                   (None, 64)           131136      dropout[0][0]                    \n",
            "__________________________________________________________________________________________________\n",
            "dropout_1 (Dropout)             (None, 64)           0           dense[0][0]                      \n",
            "__________________________________________________________________________________________________\n",
            "dense_1 (Dense)                 (None, 10)           650         dropout_1[0][0]                  \n",
            "==================================================================================================\n",
            "Total params: 21,001,458\n",
            "Trainable params: 135,882\n",
            "Non-trainable params: 20,865,576\n",
            "__________________________________________________________________________________________________\n"
          ],
          "name": "stdout"
        }
      ]
    },
    {
      "cell_type": "code",
      "metadata": {
        "id": "d8H7RY82NuOp"
      },
      "source": [
        "solver = optimizers.Adam(learning_rate=0.0005, name='adam')\n",
        "model.compile(optimizer=solver, loss='categorical_crossentropy', metrics=['accuracy'])"
      ],
      "execution_count": null,
      "outputs": []
    },
    {
      "cell_type": "code",
      "metadata": {
        "colab": {
          "base_uri": "https://localhost:8080/"
        },
        "id": "YApy8IO-CJBp",
        "outputId": "c19ae01b-13b0-48f9-942c-6171e800db5c"
      },
      "source": [
        "training_data = model.fit(x=X_train, y=Y_train, batch_size=125, epochs=50, validation_data=(X_test, Y_test))"
      ],
      "execution_count": null,
      "outputs": [
        {
          "output_type": "stream",
          "text": [
            "Epoch 1/50\n",
            "400/400 [==============================] - 92s 206ms/step - loss: 1.6264 - accuracy: 0.4931 - val_loss: 0.8832 - val_accuracy: 0.7035\n",
            "Epoch 2/50\n",
            "400/400 [==============================] - 81s 202ms/step - loss: 0.9878 - accuracy: 0.6625 - val_loss: 0.8406 - val_accuracy: 0.7076\n",
            "Epoch 3/50\n",
            "400/400 [==============================] - 81s 202ms/step - loss: 0.9087 - accuracy: 0.6867 - val_loss: 0.8108 - val_accuracy: 0.7172\n",
            "Epoch 4/50\n",
            "400/400 [==============================] - 81s 202ms/step - loss: 0.8521 - accuracy: 0.7029 - val_loss: 0.7876 - val_accuracy: 0.7250\n",
            "Epoch 5/50\n",
            "400/400 [==============================] - 81s 201ms/step - loss: 0.8201 - accuracy: 0.7133 - val_loss: 0.7799 - val_accuracy: 0.7298\n",
            "Epoch 6/50\n",
            "400/400 [==============================] - 80s 201ms/step - loss: 0.8095 - accuracy: 0.7181 - val_loss: 0.7751 - val_accuracy: 0.7322\n",
            "Epoch 7/50\n",
            "400/400 [==============================] - 81s 201ms/step - loss: 0.7760 - accuracy: 0.7266 - val_loss: 0.7707 - val_accuracy: 0.7343\n",
            "Epoch 8/50\n",
            "400/400 [==============================] - 81s 201ms/step - loss: 0.7660 - accuracy: 0.7328 - val_loss: 0.7646 - val_accuracy: 0.7362\n",
            "Epoch 9/50\n",
            "400/400 [==============================] - 80s 201ms/step - loss: 0.7682 - accuracy: 0.7332 - val_loss: 0.7688 - val_accuracy: 0.7345\n",
            "Epoch 10/50\n",
            "400/400 [==============================] - 80s 200ms/step - loss: 0.7394 - accuracy: 0.7374 - val_loss: 0.7605 - val_accuracy: 0.7403\n",
            "Epoch 11/50\n",
            "400/400 [==============================] - 80s 200ms/step - loss: 0.7424 - accuracy: 0.7371 - val_loss: 0.7646 - val_accuracy: 0.7354\n",
            "Epoch 12/50\n",
            "400/400 [==============================] - 80s 201ms/step - loss: 0.7326 - accuracy: 0.7400 - val_loss: 0.7615 - val_accuracy: 0.7410\n",
            "Epoch 13/50\n",
            "400/400 [==============================] - 80s 201ms/step - loss: 0.7177 - accuracy: 0.7430 - val_loss: 0.7566 - val_accuracy: 0.7407\n",
            "Epoch 14/50\n",
            "400/400 [==============================] - 80s 201ms/step - loss: 0.7124 - accuracy: 0.7450 - val_loss: 0.7599 - val_accuracy: 0.7355\n",
            "Epoch 15/50\n",
            "400/400 [==============================] - 80s 201ms/step - loss: 0.7044 - accuracy: 0.7520 - val_loss: 0.7589 - val_accuracy: 0.7400\n",
            "Epoch 16/50\n",
            "400/400 [==============================] - 80s 201ms/step - loss: 0.6990 - accuracy: 0.7513 - val_loss: 0.7622 - val_accuracy: 0.7383\n",
            "Epoch 17/50\n",
            "400/400 [==============================] - 80s 201ms/step - loss: 0.7053 - accuracy: 0.7481 - val_loss: 0.7590 - val_accuracy: 0.7443\n",
            "Epoch 18/50\n",
            "400/400 [==============================] - 80s 201ms/step - loss: 0.6890 - accuracy: 0.7547 - val_loss: 0.7619 - val_accuracy: 0.7393\n",
            "Epoch 19/50\n",
            "400/400 [==============================] - 80s 201ms/step - loss: 0.6862 - accuracy: 0.7543 - val_loss: 0.7640 - val_accuracy: 0.7387\n",
            "Epoch 20/50\n",
            "400/400 [==============================] - 80s 201ms/step - loss: 0.6898 - accuracy: 0.7525 - val_loss: 0.7624 - val_accuracy: 0.7377\n",
            "Epoch 21/50\n",
            "400/400 [==============================] - 80s 201ms/step - loss: 0.6675 - accuracy: 0.7580 - val_loss: 0.7552 - val_accuracy: 0.7402\n",
            "Epoch 22/50\n",
            "400/400 [==============================] - 80s 201ms/step - loss: 0.6750 - accuracy: 0.7572 - val_loss: 0.7583 - val_accuracy: 0.7445\n",
            "Epoch 23/50\n",
            "400/400 [==============================] - 80s 201ms/step - loss: 0.6737 - accuracy: 0.7596 - val_loss: 0.7654 - val_accuracy: 0.7357\n",
            "Epoch 24/50\n",
            "400/400 [==============================] - 80s 201ms/step - loss: 0.6689 - accuracy: 0.7607 - val_loss: 0.7671 - val_accuracy: 0.7388\n",
            "Epoch 25/50\n",
            "400/400 [==============================] - 81s 201ms/step - loss: 0.6689 - accuracy: 0.7617 - val_loss: 0.7636 - val_accuracy: 0.7412\n",
            "Epoch 26/50\n",
            "400/400 [==============================] - 81s 203ms/step - loss: 0.6620 - accuracy: 0.7634 - val_loss: 0.7678 - val_accuracy: 0.7383\n",
            "Epoch 27/50\n",
            "400/400 [==============================] - 81s 204ms/step - loss: 0.6650 - accuracy: 0.7638 - val_loss: 0.7637 - val_accuracy: 0.7377\n",
            "Epoch 28/50\n",
            "400/400 [==============================] - 81s 204ms/step - loss: 0.6620 - accuracy: 0.7610 - val_loss: 0.7599 - val_accuracy: 0.7433\n",
            "Epoch 29/50\n",
            "400/400 [==============================] - 81s 203ms/step - loss: 0.6505 - accuracy: 0.7633 - val_loss: 0.7618 - val_accuracy: 0.7431\n",
            "Epoch 30/50\n",
            "400/400 [==============================] - 81s 203ms/step - loss: 0.6553 - accuracy: 0.7646 - val_loss: 0.7634 - val_accuracy: 0.7384\n",
            "Epoch 31/50\n",
            "400/400 [==============================] - 81s 204ms/step - loss: 0.6475 - accuracy: 0.7677 - val_loss: 0.7601 - val_accuracy: 0.7422\n",
            "Epoch 32/50\n",
            "400/400 [==============================] - 81s 204ms/step - loss: 0.6474 - accuracy: 0.7697 - val_loss: 0.7613 - val_accuracy: 0.7410\n",
            "Epoch 33/50\n",
            "400/400 [==============================] - 81s 204ms/step - loss: 0.6408 - accuracy: 0.7676 - val_loss: 0.7648 - val_accuracy: 0.7430\n",
            "Epoch 34/50\n",
            "400/400 [==============================] - 81s 204ms/step - loss: 0.6524 - accuracy: 0.7633 - val_loss: 0.7612 - val_accuracy: 0.7396\n",
            "Epoch 35/50\n",
            "400/400 [==============================] - 81s 204ms/step - loss: 0.6446 - accuracy: 0.7696 - val_loss: 0.7603 - val_accuracy: 0.7441\n",
            "Epoch 36/50\n",
            "400/400 [==============================] - 81s 204ms/step - loss: 0.6385 - accuracy: 0.7700 - val_loss: 0.7656 - val_accuracy: 0.7423\n",
            "Epoch 37/50\n",
            "400/400 [==============================] - 81s 204ms/step - loss: 0.6388 - accuracy: 0.7683 - val_loss: 0.7676 - val_accuracy: 0.7429\n",
            "Epoch 38/50\n",
            "400/400 [==============================] - 81s 204ms/step - loss: 0.6423 - accuracy: 0.7706 - val_loss: 0.7698 - val_accuracy: 0.7427\n",
            "Epoch 39/50\n",
            "400/400 [==============================] - 81s 204ms/step - loss: 0.6414 - accuracy: 0.7673 - val_loss: 0.7655 - val_accuracy: 0.7402\n",
            "Epoch 40/50\n",
            "400/400 [==============================] - 81s 204ms/step - loss: 0.6309 - accuracy: 0.7704 - val_loss: 0.7695 - val_accuracy: 0.7395\n",
            "Epoch 41/50\n",
            "400/400 [==============================] - 81s 204ms/step - loss: 0.6376 - accuracy: 0.7700 - val_loss: 0.7730 - val_accuracy: 0.7378\n",
            "Epoch 42/50\n",
            "400/400 [==============================] - 81s 204ms/step - loss: 0.6257 - accuracy: 0.7737 - val_loss: 0.7757 - val_accuracy: 0.7386\n",
            "Epoch 43/50\n",
            "400/400 [==============================] - 81s 203ms/step - loss: 0.6325 - accuracy: 0.7732 - val_loss: 0.7718 - val_accuracy: 0.7401\n",
            "Epoch 44/50\n",
            "400/400 [==============================] - 81s 204ms/step - loss: 0.6286 - accuracy: 0.7712 - val_loss: 0.7757 - val_accuracy: 0.7408\n",
            "Epoch 45/50\n",
            "400/400 [==============================] - 81s 203ms/step - loss: 0.6332 - accuracy: 0.7720 - val_loss: 0.7718 - val_accuracy: 0.7393\n",
            "Epoch 46/50\n",
            "400/400 [==============================] - 81s 203ms/step - loss: 0.6268 - accuracy: 0.7713 - val_loss: 0.7735 - val_accuracy: 0.7416\n",
            "Epoch 47/50\n",
            "400/400 [==============================] - 81s 203ms/step - loss: 0.6223 - accuracy: 0.7742 - val_loss: 0.7760 - val_accuracy: 0.7380\n",
            "Epoch 48/50\n",
            "400/400 [==============================] - 81s 203ms/step - loss: 0.6335 - accuracy: 0.7750 - val_loss: 0.7732 - val_accuracy: 0.7427\n",
            "Epoch 49/50\n",
            "400/400 [==============================] - 81s 204ms/step - loss: 0.6162 - accuracy: 0.7731 - val_loss: 0.7699 - val_accuracy: 0.7445\n",
            "Epoch 50/50\n",
            "400/400 [==============================] - 81s 203ms/step - loss: 0.6150 - accuracy: 0.7772 - val_loss: 0.7697 - val_accuracy: 0.7452\n"
          ],
          "name": "stdout"
        }
      ]
    },
    {
      "cell_type": "code",
      "metadata": {
        "id": "zF3H4DCIDESU"
      },
      "source": [
        "Y_pred = model.predict(X_test).argmax(axis=1)\n",
        "y_test = Y_test.argmax(axis=1)"
      ],
      "execution_count": null,
      "outputs": []
    },
    {
      "cell_type": "code",
      "metadata": {
        "colab": {
          "base_uri": "https://localhost:8080/"
        },
        "id": "iKsnwGw_DMl0",
        "outputId": "3d1307b7-2b5a-42a2-88bf-d4ad36763a27"
      },
      "source": [
        "print(metrics.classification_report(y_test, Y_pred))\n",
        "print(metrics.accuracy_score(y_test, Y_pred))"
      ],
      "execution_count": null,
      "outputs": [
        {
          "output_type": "stream",
          "text": [
            "              precision    recall  f1-score   support\n",
            "\n",
            "           0       0.74      0.77      0.75      1000\n",
            "           1       0.84      0.83      0.84      1000\n",
            "           2       0.77      0.63      0.69      1000\n",
            "           3       0.63      0.57      0.60      1000\n",
            "           4       0.64      0.72      0.68      1000\n",
            "           5       0.70      0.71      0.71      1000\n",
            "           6       0.70      0.78      0.74      1000\n",
            "           7       0.81      0.77      0.79      1000\n",
            "           8       0.83      0.81      0.82      1000\n",
            "           9       0.80      0.86      0.83      1000\n",
            "\n",
            "    accuracy                           0.75     10000\n",
            "   macro avg       0.75      0.75      0.74     10000\n",
            "weighted avg       0.75      0.75      0.74     10000\n",
            "\n",
            "0.7452\n"
          ],
          "name": "stdout"
        }
      ]
    },
    {
      "cell_type": "code",
      "metadata": {
        "colab": {
          "base_uri": "https://localhost:8080/",
          "height": 545
        },
        "id": "rbBoKyAkLtHt",
        "outputId": "a370cc1e-ae28-433f-865e-ad5b571b20a4"
      },
      "source": [
        "plt.figure(0)\n",
        "plt.plot(training_data.history['accuracy'],'r',label='Training Accuracy')\n",
        "plt.plot(training_data.history['val_accuracy'],'b',label='Validation Accuracy')\n",
        "plt.legend()\n",
        "plt.title('Accuracy of Models per epoch')\n",
        "plt.show()\n",
        "\n",
        "plt.figure(1)\n",
        "plt.plot(training_data.history['loss'],'r',label='Training Loss')\n",
        "plt.plot(training_data.history['val_loss'],'b',label='Validation Loss')\n",
        "plt.legend()\n",
        "plt.title('Loss of Model per epoch')\n",
        "plt.show()\n"
      ],
      "execution_count": null,
      "outputs": [
        {
          "output_type": "display_data",
          "data": {
            "image/png": "[encoded data removed]",
            "text/plain": [
              "<Figure size 432x288 with 1 Axes>"
            ]
          },
          "metadata": {
            "tags": [],
            "needs_background": "light"
          }
        },
        {
          "output_type": "display_data",
          "data": {
            "image/png": "[encoded data removed]",
            "text/plain": [
              "<Figure size 432x288 with 1 Axes>"
            ]
          },
          "metadata": {
            "tags": [],
            "needs_background": "light"
          }
        }
      ]
    },
    {
      "cell_type": "code",
      "metadata": {
        "id": "mufgQkuuR6RL"
      },
      "source": [
        "model.save('lab4_TL', save_format='h5')"
      ],
      "execution_count": null,
      "outputs": []
    }
  ]
}